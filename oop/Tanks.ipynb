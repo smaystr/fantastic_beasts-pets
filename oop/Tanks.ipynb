{
 "cells": [
  {
   "cell_type": "code",
   "execution_count": 2,
   "metadata": {
    "collapsed": true
   },
   "outputs": [],
   "source": [
    "class Gun:\n",
    "    def Gun(self, cal, length):\n",
    "        self.caliber = cal\n",
    "        self.barrel_Length = length\n",
    "\n",
    "    def GetCaliber(self):\n",
    "        return self.caliber\n",
    "\n",
    "    def IsOnTarget(self, dice):\n",
    "        return (barrelLength + dice) > 100\n",
    "    "
   ]
  },
  {
   "cell_type": "code",
   "execution_count": null,
   "metadata": {
    "collapsed": true
   },
   "outputs": [],
   "source": [
    "class Ammo:\n",
    "    Ammo(self, s_gun, gun_type)\n",
    "   {\n",
    "       self.some_gun = s_gun;\n",
    "       self.gun_type = g_type\n",
    "   }\n",
    "}"
   ]
  }
 ],
 "metadata": {
  "kernelspec": {
   "display_name": "Python 3",
   "language": "python",
   "name": "python3"
  },
  "language_info": {
   "codemirror_mode": {
    "name": "ipython",
    "version": 3
   },
   "file_extension": ".py",
   "mimetype": "text/x-python",
   "name": "python",
   "nbconvert_exporter": "python",
   "pygments_lexer": "ipython3",
   "version": "3.5.2"
  }
 },
 "nbformat": 4,
 "nbformat_minor": 1
}
