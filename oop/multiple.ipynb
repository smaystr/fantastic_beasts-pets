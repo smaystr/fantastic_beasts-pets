{
 "cells": [
  {
   "cell_type": "code",
   "execution_count": 1,
   "metadata": {},
   "outputs": [
    {
     "name": "stdout",
     "output_type": "stream",
     "text": [
      "Max height  200\n",
      "Mule run\n",
      "Name: (House's method):  Mule\n",
      "-- Call Mule.showInfo: --\n",
      "Horse Info\n",
      "Donkey Info\n"
     ]
    }
   ],
   "source": [
    "class Horse:\n",
    "     \n",
    "    maxHeight = 200; # centimeter\n",
    "     \n",
    "    def __init__(self, name, horsehair):\n",
    "        self.name = name\n",
    "        self.horsehair = horsehair\n",
    "     \n",
    "    def run(self):\n",
    "        print (\"Horse run\")   \n",
    "      \n",
    "    def showName(self):\n",
    "        print (\"Name: (House's method): \", self.name)   \n",
    "         \n",
    "    def showInfo(self):\n",
    "        print (\"Horse Info\")    \n",
    "  \n",
    " \n",
    "class Donkey:\n",
    "     \n",
    "    def __init__(self, name, weight):        \n",
    "        self.name = name\n",
    "        self.weight = weight    \n",
    "         \n",
    "         \n",
    "    def run(self):\n",
    "        print (\"Donkey run\")     \n",
    "         \n",
    "    def showName(self):        \n",
    "        print (\"Name: (Donkey's method): \", self.name)   \n",
    " \n",
    "    def showInfo(self):\n",
    "        print (\"Donkey Info\")               \n",
    "   \n",
    "# Класс Mule унаследован от Horse и Donkey.\n",
    "class Mule(Horse, Donkey):\n",
    "     \n",
    "    def __init__(self, name, hair, weight): \n",
    "        Horse.__init__(self, name, hair)  \n",
    "        Donkey.__init__(self, name, weight)\n",
    "         \n",
    "     \n",
    "    def run(self):   \n",
    "        print (\"Mule run\")      \n",
    " \n",
    " \n",
    "    def showInfo(self):\n",
    "        print (\"-- Call Mule.showInfo: --\")\n",
    "        Horse.showInfo(self)\n",
    "        Donkey.showInfo(self)\n",
    "        \n",
    "# ---- Test ------------------------------------\n",
    "# Переменная 'maxHeight', унаследована от класса Horse.\n",
    "print (\"Max height \", Mule.maxHeight)\n",
    " \n",
    "mule = Mule(\"Mule\", 20, 1000)\n",
    " \n",
    "mule.run()\n",
    " \n",
    "mule.showName() \n",
    " \n",
    "mule.showInfo()"
   ]
  }
 ],
 "metadata": {
  "kernelspec": {
   "display_name": "Python 3",
   "language": "python",
   "name": "python3"
  },
  "language_info": {
   "codemirror_mode": {
    "name": "ipython",
    "version": 3
   },
   "file_extension": ".py",
   "mimetype": "text/x-python",
   "name": "python",
   "nbconvert_exporter": "python",
   "pygments_lexer": "ipython3",
   "version": "3.6.6"
  }
 },
 "nbformat": 4,
 "nbformat_minor": 2
}
