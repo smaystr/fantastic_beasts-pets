{
 "cells": [
  {
   "cell_type": "code",
   "execution_count": 1,
   "metadata": {},
   "outputs": [],
   "source": [
    "import re\n",
    "from abc import ABC, abstractmethod"
   ]
  },
  {
   "cell_type": "code",
   "execution_count": 91,
   "metadata": {},
   "outputs": [],
   "source": [
    "text = r'''\n",
    "In software engineering, a software design pattern is a general, reusable solution to a commonly occurring\n",
    "problem within a given context in software design. It is not a finished design that can be transformed directly into \n",
    "source or machine code. It is a description or template for how to solve a problem that can be used in many different \n",
    "situations. Design patterns are formalized best practices that the programmer can use to solve common problems when \n",
    "designing an application or system. Object-oriented design patterns typically show relationships and interactions between \n",
    "classes or objects, without specifying the final application classes or objects that are involved. Patterns that imply \n",
    "mutable state may be unsuited for functional programming languages, some patterns can be rendered unnecessary in languages \n",
    "that have built-in support for solving the problem they are trying to solve, and object-oriented patterns are not \n",
    "necessarily suitable for non-object-oriented languages. Design patterns may be viewed as a structured approach to computer \n",
    "programming intermediate between the levels of a programming paradigm and a concrete algorithm.\n",
    "'''"
   ]
  },
  {
   "cell_type": "code",
   "execution_count": 92,
   "metadata": {},
   "outputs": [],
   "source": [
    "# TextProcessor\n",
    "class AbstractAdapter(ABC):\n",
    "    @abstractmethod\n",
    "    def process_text(self, text):\n",
    "        pass"
   ]
  },
  {
   "cell_type": "code",
   "execution_count": 93,
   "metadata": {},
   "outputs": [],
   "source": [
    "class System:\n",
    "    def __init__(self, text):\n",
    "        tmp = text\n",
    "        tmp = re.sub(r'\\W', ' ', tmp.lower())\n",
    "        tmp = re.sub(r' +', ' ', tmp).strip()\n",
    "        self.text = tmp\n",
    "        \n",
    "    # word_counter - processor but it don't has process_text method\n",
    "    def get_proсessed_text(self, adapter):\n",
    "        result = adapter.process_text(self.text)\n",
    "        print(*result, sep = '\\n')"
   ]
  },
  {
   "cell_type": "code",
   "execution_count": 94,
   "metadata": {},
   "outputs": [],
   "source": [
    "class WordCounter:\n",
    "    def count_words(self, text):\n",
    "        self.__words = dict()\n",
    "        for word in text.split():\n",
    "            #print(self.__words)\n",
    "            # key - слово, количество вхождений value\n",
    "            self.__words[word] = self.__words.get(word, 0) + 1\n",
    "            \n",
    "    def get_count(self, word):\n",
    "        return self.__words.get(word, 0)\n",
    "    \n",
    "    def get_all_words(self):\n",
    "        return self.__words.copy()"
   ]
  },
  {
   "cell_type": "code",
   "execution_count": 95,
   "metadata": {},
   "outputs": [],
   "source": [
    "# adapter\n",
    "class Adapter(AbstractAdapter):\n",
    "    def __init__(self, counter):\n",
    "        self.adaptee = counter   # counter, count words\n",
    "        \n",
    "#   принимает текст и сортирует слова \n",
    "#   в порядке убывания частоты появления\n",
    "    def process_text(self, text):\n",
    "        # получить из словаря всех слов список\n",
    "        self.adaptee.count_words(text)  \n",
    "        words = self.adaptee.get_all_words().keys()\n",
    "        return sorted(words, key = lambda x: self.adaptee.get_count(x), reverse = True)"
   ]
  },
  {
   "cell_type": "code",
   "execution_count": 96,
   "metadata": {},
   "outputs": [],
   "source": [
    "def main():\n",
    "    system = System(text)\n",
    "    counter = WordCounter()\n",
    "    \n",
    "    adapter = Adapter(counter)\n",
    "    \n",
    "    system.get_proсessed_text(adapter)"
   ]
  },
  {
   "cell_type": "code",
   "execution_count": 97,
   "metadata": {},
   "outputs": [
    {
     "name": "stdout",
     "output_type": "stream",
     "text": [
      "a\n",
      "design\n",
      "that\n",
      "patterns\n",
      "in\n",
      "to\n",
      "be\n",
      "or\n",
      "can\n",
      "for\n",
      "are\n",
      "the\n",
      "software\n",
      "is\n",
      "problem\n",
      "solve\n",
      "object\n",
      "oriented\n",
      "and\n",
      "programming\n",
      "languages\n",
      "it\n",
      "not\n",
      "application\n",
      "between\n",
      "classes\n",
      "objects\n",
      "may\n",
      "engineering\n",
      "pattern\n",
      "general\n",
      "reusable\n",
      "solution\n",
      "commonly\n",
      "occurring\n",
      "within\n",
      "given\n",
      "context\n",
      "finished\n",
      "transformed\n",
      "directly\n",
      "into\n",
      "source\n",
      "machine\n",
      "code\n",
      "description\n",
      "template\n",
      "how\n",
      "used\n",
      "many\n",
      "different\n",
      "situations\n",
      "formalized\n",
      "best\n",
      "practices\n",
      "programmer\n",
      "use\n",
      "common\n",
      "problems\n",
      "when\n",
      "designing\n",
      "an\n",
      "system\n",
      "typically\n",
      "show\n",
      "relationships\n",
      "interactions\n",
      "without\n",
      "specifying\n",
      "final\n",
      "involved\n",
      "imply\n",
      "mutable\n",
      "state\n",
      "unsuited\n",
      "functional\n",
      "some\n",
      "rendered\n",
      "unnecessary\n",
      "have\n",
      "built\n",
      "support\n",
      "solving\n",
      "they\n",
      "trying\n",
      "necessarily\n",
      "suitable\n",
      "non\n",
      "viewed\n",
      "as\n",
      "structured\n",
      "approach\n",
      "computer\n",
      "intermediate\n",
      "levels\n",
      "of\n",
      "paradigm\n",
      "concrete\n",
      "algorithm\n"
     ]
    }
   ],
   "source": [
    "if __name__ == \"__main__\":\n",
    "    main()"
   ]
  }
 ],
 "metadata": {
  "kernelspec": {
   "display_name": "Python 3",
   "language": "python",
   "name": "python3"
  },
  "language_info": {
   "codemirror_mode": {
    "name": "ipython",
    "version": 3
   },
   "file_extension": ".py",
   "mimetype": "text/x-python",
   "name": "python",
   "nbconvert_exporter": "python",
   "pygments_lexer": "ipython3",
   "version": "3.6.6"
  }
 },
 "nbformat": 4,
 "nbformat_minor": 2
}
