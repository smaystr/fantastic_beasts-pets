{
 "cells": [
  {
   "cell_type": "markdown",
   "metadata": {},
   "source": [
    "# Паттерн Декоратор\n",
    "<a href=\"https://sourcemaking.com/design_patterns/decorator/python/1\">Decorator in Python on sourcemaking</a>\n",
    "\n",
    "Паттерн декоратор относится к классу структурных паттернов проектирования. Его основная задача -- динамическое подключение дополнительной функциональности к объекту. При этом для подключения дополнительной функциональности используется не сложная иерархия подклассов, что является классическим решением данной задачи, а отдельная иерархия декораторов.\n",
    "\n",
    "Каждый из видов дополнительной функциональности, которая может быть добавлена к объекту, помещается в отдельный класс. Эти классы сами по себе небольшие, поэтому в них легко разобраться.\n",
    "\n",
    "В паттерн \"Декоратор\" входят оборачиваемый объект и сама иерархия декораторов. Каждый из декораторов реализует какое-то одно функциональное свойство. Это позволяет соблюдать один из SOLID принципов -- принцип единственной ответственности. Так мы можем подключить к классу только ту функциональность, которая необходима ему в данный момент. Для подключения нескольких\n",
    "функциональных свойств можно последовательно использовать несколько декораторов.\n"
   ]
  },
  {
   "cell_type": "markdown",
   "metadata": {},
   "source": [
    "# Структура декораторов\n",
    "\n",
    "<img src=\"https://upload.wikimedia.org/wikipedia/commons/thumb/e/e9/Decorator_UML_class_diagram.svg/960px-Decorator_UML_class_diagram.svg.png\">\n",
    "\n",
    "Для создания паттерна \"Декоратор\" необходимы следующие классы:\n",
    "\n",
    "* Абстрактный объект (Component)\n",
    "* Оборачиваемый объект (на UML-диаграмме ConcreteComponent)\n",
    "* Абстрактный декоратор (Decorator)\n",
    "* Конкретный декоратор (ConcreteDecorator)\n",
    "\n",
    "Как видно из диаграммы, все декораторы по сути являются объектами, подобными самому компоненту. Из этого следует, что они реализуют одинаковый интерфейс. Согласно принципу подстановки Барбары Лисков у пользователя должна быть возможность корректного использования объекта-декоратора (то есть объекта, обернутого в декоратор), не зная об этом.\n",
    "\n",
    "Тут находится одно из слабых мест паттерна. Интерфейс объекта и интерфейс модифицированного объекта одинаковы. Это не всегда удобно, иногда для модифицированного объекта требуется отдельный интерфейс."
   ]
  },
  {
   "cell_type": "markdown",
   "metadata": {},
   "source": [
    "# Другие похожие паттерны:\n",
    "\n",
    "### Стратегия\n",
    "\n",
    "Также позволяет динамически добавлять поведение объекту. Так же, как и в декораторе, стратегии реализуются в отдельных классах Однако, в отличие от декоратора, декорируемый класс не оборачивается в стратегию, а стратегия, как компонент, встраивается в основной класс.\n",
    "\n",
    "### Цепочка обязанностей\n",
    "\n",
    "Цепочка обязанностей так же в чем-то близкий к декоратору класс. Она так же задает множество обработчиков некоторого события. Отличие от декоратора заключается в том, что в цепочке обязанностей событие обрабатывает только один из классов, тогда как в декораторе все классы-декораторы обрабатывают событие."
   ]
  },
  {
   "cell_type": "markdown",
   "metadata": {},
   "source": [
    "# Использование паттерна Декоратор\n",
    "\n",
    "При использовании паттерна декорируемый объект оборачивается в декоратор. Таким образом получается вложенная структура из декораторов. Отменить действие декоратора можно, если достать базовый объект из декоратора. Это можно сделать, обратившись к decorated_object.base. Аналогичным образом можно отменить эффект декоратора из середины иерархии. Для этого изменим базовый объект у внешнего декоратора на базовый объект декоратора, который необходимо удалить. Принцип похож на удаление элемента из середины односвязного списка."
   ]
  },
  {
   "cell_type": "markdown",
   "metadata": {},
   "source": [
    "# Пример использования Декоратора\n",
    "Представьте себя ненадолго разработчиком компьютерной игры в стиле фэнтези. Вы будете прописывать систему эффектов, которые могут быть наложены на героя вашей игры.\n",
    "\n",
    "У вас есть герой, который обладает некоторым набором характеристик. Враги и союзники могут накладывать на героя положительные и отрицательные эффекты. Эти эффекты каким-то образом изменяют характеристики героя. На героя можно накладывать бесконечно много эффектов, действие одинаковых эффектов суммируется. Игрок должен знать, какие положительные и какие отрицательные эффекты на него были наложены и в каком порядке.\n",
    "\n",
    "# Структура декораторов\n",
    "\n",
    "<img src=\"https://d3c33hcgiwev3.cloudfront.net/imageAssetProxy.v1/fXs5G_96EeeAPQprC3K2Bg_8e1189dd970d8e6270b7fbe567341f44_Decorator.JPG?expiry=1537315200000&hmac=8kz3AFlxSAe3Qj-40H18tYsYZFABdTHLNYeQwEPkrHA\">"
   ]
  },
  {
   "cell_type": "code",
   "execution_count": 1,
   "metadata": {},
   "outputs": [],
   "source": [
    "import abc\n",
    "\n",
    "class AbstractComponent(metaclass=abc.ABCMeta):\n",
    "    \"\"\"\n",
    "    Define the interface for objects that can have responsibilities\n",
    "    added to them dynamically.\n",
    "    \"\"\"\n",
    "\n",
    "    @abc.abstractmethod\n",
    "    def get_positive_effects(self):\n",
    "        pass\n",
    "    \n",
    "    @abc.abstractmethod\n",
    "    def get_negative_effects(self):\n",
    "        pass\n",
    "    \n",
    "    @abc.abstractmethod\n",
    "    def get_stats(self):\n",
    "        pass\n"
   ]
  },
  {
   "cell_type": "code",
   "execution_count": 2,
   "metadata": {},
   "outputs": [],
   "source": [
    "'''\n",
    "#     \"Сила\": 15,         # Berserk+7,    Blessing+2,  Weakness - 4,                     Curse - 2,\n",
    "#     \"Восприятие\": 4,    # Berserk - 3,  Blessing+2,  Weakness+3,                       Curse - 2,\n",
    "#     \"Выносливость\": 8,  # Berserk+7,    Blessing+2,  Weakness - 4,                     Curse - 2,   \n",
    "#     \"Харизма\": 2,       # Berserk - 3,  Blessing+2,                                    Curse - 2,\n",
    "#     \"Интеллект\": 3,     # Berserk - 3,  Blessing+2,  Weakness+3,                       Curse - 2,\n",
    "#     \"Ловкость\": 8,      # Berserk+7,    Blessing+2,  Weakness - 4,                     Curse - 2,   \n",
    "#     \"Удача\": 1          # Berserk+7,    Blessing+2,                   EvilEye - 10,    Curse - 2,\n",
    "'''\n",
    "# Оборачиваемый объект (Hero) \n",
    "class Hero(AbstractComponent):\n",
    "    def __init__(self):\n",
    "        self.positive_effects = []\n",
    "        self.negative_effects = []\n",
    "        \n",
    "        self.stats = {\n",
    "            \"HP\": 128,\n",
    "            \"MP\": 42,\n",
    "            \"SP\": 100,\n",
    "            \n",
    "            \"Strength\": 15,    # Berserk+7,    Blessing+2,  Weakness - 4,                     Curse - 2,\n",
    "            \"Perception\": 4,   # Berserk - 3,  Blessing+2,  Weakness+3,                       Curse - 2,\n",
    "            \"Endurance\": 8,    # Berserk+7,    Blessing+2,  Weakness - 4,                     Curse - 2,   \n",
    "            \"Charisma\": 2,     # Berserk - 3,  Blessing+2,                                    Curse - 2,\n",
    "            \"Intelligence\": 3, # Berserk - 3,  Blessing+2,  Weakness+3,                       Curse - 2,\n",
    "            \"Dexterity\": 8,    # Berserk+7,    Blessing+2,  Weakness - 4,                     Curse - 2,   \n",
    "            \"Luck\": 1          # Berserk+7,    Blessing+2,                   EvilEye - 10,    Curse - 2,  \n",
    "        } \n",
    "        \n",
    "    def get_positive_effects(self):\n",
    "        return self.positive_effects.copy()\n",
    "    \n",
    "    def get_negative_effects(self):\n",
    "        return self.negative_effects.copy()\n",
    "    \n",
    "    def get_stats(self):\n",
    "        return self.stats.copy()\n",
    "\n",
    "        \n"
   ]
  },
  {
   "cell_type": "code",
   "execution_count": 3,
   "metadata": {},
   "outputs": [],
   "source": [
    "class AbstractEffect(AbstractComponent):\n",
    "    \n",
    "    def __init__(self, component):\n",
    "        self._component = component\n",
    "    \n",
    "    def get_positive_effects(self):\n",
    "        pass\n",
    "    \n",
    "    def get_negative_effects(self):\n",
    "        pass\n",
    "    \n",
    "    def get_stats(self):\n",
    "        pass"
   ]
  },
  {
   "cell_type": "code",
   "execution_count": 4,
   "metadata": {},
   "outputs": [],
   "source": [
    "# Абстрактный декоратор (Positive)\n",
    "class AbstractPositive(AbstractEffect):\n",
    "    \n",
    "    def __init__(self, component, effects):\n",
    "        AbstractEffect.__init__(self, component)\n",
    "        self._component.positive_effects = effects\n",
    "        \n",
    "        self._component.stats[\"Strength\"] += self._component.positive_effects[0]\n",
    "        self._component.stats[\"Perception\"] += self._component.positive_effects[1]  \n",
    "        self._component.stats[\"Endurance\"] += self._component.positive_effects[2]      \n",
    "        self._component.stats[\"Charisma\"] += self._component.positive_effects[3]    \n",
    "        self._component.stats[\"Intelligence\"] += self._component.positive_effects[4]\n",
    "        self._component.stats[\"Dexterity\"] += self._component.positive_effects[5]   \n",
    "        self._component.stats[\"Luck\"] += self._component.positive_effects[6]\n",
    "        \n",
    "# Абстрактный декоратор (Negative)\n",
    "class AbstractNegative(AbstractEffect):\n",
    "    \n",
    "    def __init__(self, component, effects):\n",
    "        AbstractEffect.__init__(self, component)\n",
    "        self._component.negative_effects = effects\n",
    "        \n",
    "        self._component.stats[\"Strength\"] -= self._component.negative_effects[0]\n",
    "        self._component.stats[\"Perception\"] -= self._component.negative_effects[1]  \n",
    "        self._component.stats[\"Endurance\"] -= self._component.negative_effects[2]      \n",
    "        self._component.stats[\"Charisma\"] -= self._component.negative_effects[3]    \n",
    "        self._component.stats[\"Intelligence\"] -= self._component.negative_effects[4]\n",
    "        self._component.stats[\"Dexterity\"] -= self._component.negative_effects[5]   \n",
    "        self._component.stats[\"Luck\"] -= self._component.negative_effects[6]"
   ]
  },
  {
   "cell_type": "code",
   "execution_count": 5,
   "metadata": {},
   "outputs": [],
   "source": [
    "# Конкретные декораторы (Positive)\n",
    "class Berserk(AbstractPositive, AbstractNegative):\n",
    "    \n",
    "    def __init__(self, component):\n",
    "        AbstractPositive.__init__(self, component, [7,0,7,0,0,7,7])\n",
    "        AbstractNegative.__init__(self, component, [0,3,0,3,3,0,0])\n",
    "    \n",
    "class Blessing(AbstractPositive):\n",
    "    \n",
    "    def __init__(self, component):\n",
    "        AbstractPositive.__init__(self, component, [2,2,2,2,2,2,2])\n",
    "    "
   ]
  },
  {
   "cell_type": "code",
   "execution_count": 6,
   "metadata": {},
   "outputs": [],
   "source": [
    "# Конкретный декоратор (Negative)\n",
    "class Weakness(AbstractPositive, AbstractNegative):\n",
    "    \n",
    "    def __init__(self, component):\n",
    "        AbstractPositive.__init__(self, component, [0,3,0,0,3,0,0])\n",
    "        AbstractNegative.__init__(self, component, [4,0,4,0,0,4,0])\n",
    "        \n",
    "class EvilEye(AbstractNegative):\n",
    "\n",
    "    def __init__(self, component):\n",
    "        AbstractNegative.__init__(self, component, [0,0,0,0,0,0,10])\n",
    "        \n",
    "class Curse(AbstractNegative):\n",
    "    \n",
    "    def __init__(self, component):\n",
    "        AbstractNegative.__init__(self, component, [2,2,2,2,2,2,2])\n",
    "    "
   ]
  },
  {
   "cell_type": "code",
   "execution_count": 7,
   "metadata": {},
   "outputs": [],
   "source": [
    "def main():\n",
    "    hero = Hero()\n",
    "    get_positive_effects_hero = hero.get_positive_effects()\n",
    "    get_negative_effects_hero = hero.get_negative_effects()\n",
    "    get_stats = hero.get_stats()\n",
    "    print(type(hero)) \n",
    "    print('positive_effects: {0}, negative_effects: {1}'.format(get_positive_effects_hero, get_negative_effects_hero)) \n",
    "    print(get_stats)\n",
    "    \n",
    "    berserk = Berserk(hero)\n",
    "    get_positive_effects_berserk = berserk._component.get_positive_effects()\n",
    "    get_negative_effects_berserk = berserk._component.get_negative_effects()\n",
    "    get_stats = berserk._component.get_stats()\n",
    "    print(type(berserk)) \n",
    "    print('positive_effects: {0}, negative_effects: {1}'.format(get_negative_effects_berserk, get_negative_effects_berserk)) \n",
    "    print(get_stats)\n",
    "    \n",
    "    berserk = Berserk(hero)\n",
    "    get_positive_effects_berserk = berserk._component.get_positive_effects()\n",
    "    get_negative_effects_berserk = berserk._component.get_negative_effects()\n",
    "    get_stats = berserk._component.get_stats()\n",
    "    print(type(berserk)) \n",
    "    print('positive_effects: {0}, negative_effects: {1}'.format(get_negative_effects_berserk, get_negative_effects_berserk)) \n",
    "    print(get_stats)\n",
    "    \n",
    "    curse = Curse(hero)\n",
    "    get_positive_effects_curse = curse._component.get_positive_effects()\n",
    "    get_negative_effects_curse = curse._component.get_negative_effects()\n",
    "    get_stats = curse._component.get_stats()\n",
    "    print(type(curse)) \n",
    "    print('positive_effects: {0}, negative_effects: {1}'.format(get_negative_effects_curse, get_negative_effects_curse)) \n",
    "    print(get_stats)\n"
   ]
  },
  {
   "cell_type": "code",
   "execution_count": 8,
   "metadata": {},
   "outputs": [
    {
     "name": "stdout",
     "output_type": "stream",
     "text": [
      "<class '__main__.Hero'>\n",
      "positive_effects: [], negative_effects: []\n",
      "{'HP': 128, 'MP': 42, 'SP': 100, 'Strength': 15, 'Perception': 4, 'Endurance': 8, 'Charisma': 2, 'Intelligence': 3, 'Dexterity': 8, 'Luck': 1}\n",
      "<class '__main__.Berserk'>\n",
      "positive_effects: [0, 3, 0, 3, 3, 0, 0], negative_effects: [0, 3, 0, 3, 3, 0, 0]\n",
      "{'HP': 128, 'MP': 42, 'SP': 100, 'Strength': 22, 'Perception': 1, 'Endurance': 15, 'Charisma': -1, 'Intelligence': 0, 'Dexterity': 15, 'Luck': 8}\n",
      "<class '__main__.Berserk'>\n",
      "positive_effects: [0, 3, 0, 3, 3, 0, 0], negative_effects: [0, 3, 0, 3, 3, 0, 0]\n",
      "{'HP': 128, 'MP': 42, 'SP': 100, 'Strength': 29, 'Perception': -2, 'Endurance': 22, 'Charisma': -4, 'Intelligence': -3, 'Dexterity': 22, 'Luck': 15}\n",
      "<class '__main__.Curse'>\n",
      "positive_effects: [2, 2, 2, 2, 2, 2, 2], negative_effects: [2, 2, 2, 2, 2, 2, 2]\n",
      "{'HP': 128, 'MP': 42, 'SP': 100, 'Strength': 27, 'Perception': -4, 'Endurance': 20, 'Charisma': -6, 'Intelligence': -5, 'Dexterity': 20, 'Luck': 13}\n"
     ]
    }
   ],
   "source": [
    "if __name__ == \"__main__\":\n",
    "    main()"
   ]
  }
 ],
 "metadata": {
  "kernelspec": {
   "display_name": "Python 3",
   "language": "python",
   "name": "python3"
  },
  "language_info": {
   "codemirror_mode": {
    "name": "ipython",
    "version": 3
   },
   "file_extension": ".py",
   "mimetype": "text/x-python",
   "name": "python",
   "nbconvert_exporter": "python",
   "pygments_lexer": "ipython3",
   "version": "3.6.6"
  }
 },
 "nbformat": 4,
 "nbformat_minor": 2
}
