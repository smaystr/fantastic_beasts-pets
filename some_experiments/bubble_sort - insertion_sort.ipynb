{
 "cells": [
  {
   "cell_type": "code",
   "execution_count": 32,
   "metadata": {},
   "outputs": [],
   "source": [
    "import numpy as np\n",
    "import random\n"
   ]
  },
  {
   "cell_type": "code",
   "execution_count": 95,
   "metadata": {
    "collapsed": true
   },
   "outputs": [],
   "source": [
    "def get_unsorted_random():\n",
    "    return list(np.array([round(random.random()*i) for i in range(75,100,5)]).astype('int'))"
   ]
  },
  {
   "cell_type": "code",
   "execution_count": 195,
   "metadata": {},
   "outputs": [
    {
     "name": "stdout",
     "output_type": "stream",
     "text": [
      "5 [3, 59, 80, 18, 6]\n",
      "a(4) =  6\n",
      "    b(0) =  3\n",
      "    b(1) =  59\n",
      "        a(4) =  59 b(1) =  6\n",
      "    b(2) =  80\n",
      "        a(4) =  80 b(2) =  59\n",
      "    b(3) =  18\n",
      "a(3) =  18\n",
      "    b(0) =  3\n",
      "    b(1) =  6\n",
      "    b(2) =  59\n",
      "        a(3) =  59 b(2) =  18\n",
      "a(2) =  18\n",
      "    b(0) =  3\n",
      "    b(1) =  6\n",
      "a(1) =  6\n",
      "    b(0) =  3\n",
      "a(0) =  3\n",
      "[3, 6, 18, 59, 80]\n"
     ]
    }
   ],
   "source": [
    "def bubble(arr):\n",
    "    l = len(arr)\n",
    "    print(l, arr)\n",
    "    for a in range(l)[::-1]:\n",
    "        print('a(%s) = ' % a, arr[a],)\n",
    "        for b in range(a):\n",
    "            print('    b(%s) = ' % b, arr[b])\n",
    "            if (arr[a] < arr[b]): \n",
    "                arr[a], arr[b] = arr[b], arr[a]\n",
    "                print('        a(%s) = ' % a, arr[a], 'b(%s) = ' % b, arr[b])\n",
    "                \n",
    "    return arr\n",
    "print(bubble(get_unsorted_random()))"
   ]
  },
  {
   "cell_type": "code",
   "execution_count": 196,
   "metadata": {},
   "outputs": [
    {
     "name": "stdout",
     "output_type": "stream",
     "text": [
      "[58, 44, 42, 7, 73]\n",
      "j(0) =  58 j(-1) =  73\n",
      "j(1) =  44 j(0) =  58\n",
      "    j(1) =  58 j(0) =  44\n",
      "j(2) =  42 j(1) =  58\n",
      "    j(2) =  58 j(1) =  42\n",
      "    j(1) =  44 j(0) =  42\n",
      "j(3) =  7 j(2) =  58\n",
      "    j(3) =  58 j(2) =  7\n",
      "    j(2) =  44 j(1) =  7\n",
      "    j(1) =  42 j(0) =  7\n",
      "j(4) =  73 j(3) =  58\n",
      "[7, 42, 44, 58, 73]\n"
     ]
    }
   ],
   "source": [
    "def insertion(arr):\n",
    "    print(arr)\n",
    "    for i in range(len(arr)):\n",
    "        j = i\n",
    "        print('j(%s) = ' % j, arr[j], 'j(%s) = ' % str(j-1), arr[j-1])\n",
    "        while j > 0 and arr[j] < arr[j-1]:\n",
    "            arr[j], arr[j-1] = arr[j-1], arr[j]\n",
    "            print('    j(%s) = ' % j, arr[j], 'j(%s) = ' % str(j-1), arr[j-1])\n",
    "            j -= 1\n",
    "    return arr\n",
    "print(insertion(get_unsorted_random()))    "
   ]
  }
 ],
 "metadata": {
  "kernelspec": {
   "display_name": "Python 3",
   "language": "python",
   "name": "python3"
  },
  "language_info": {
   "codemirror_mode": {
    "name": "ipython",
    "version": 3
   },
   "file_extension": ".py",
   "mimetype": "text/x-python",
   "name": "python",
   "nbconvert_exporter": "python",
   "pygments_lexer": "ipython3",
   "version": "3.6.6"
  }
 },
 "nbformat": 4,
 "nbformat_minor": 1
}
