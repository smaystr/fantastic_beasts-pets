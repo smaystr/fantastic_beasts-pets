{
 "cells": [
  {
   "cell_type": "code",
   "execution_count": 82,
   "metadata": {},
   "outputs": [],
   "source": [
    "a_test = [1,0,1,1,1,0]\n",
    "b_test = [1,0,1,1,0,1]"
   ]
  },
  {
   "cell_type": "code",
   "execution_count": 83,
   "metadata": {},
   "outputs": [],
   "source": [
    "# Инициализация весов сети\n",
    "weights = [0 for _ in range(6)]\n",
    "    \n",
    "# Порог функции активации\n",
    "bias = 3\n",
    " \n",
    "# Является ли данное число a\n",
    "def proceed(number):\n",
    "    # Рассчитываем взвешенную сумму\n",
    "    net = 0\n",
    "    for i in range(6):\n",
    "        net += int(number[i])*weights[i]\n",
    " \n",
    "    # Превышен ли порог? (Да - сеть думает, что это a. Нет - сеть думает, что это b)\n",
    "    return net >= bias"
   ]
  },
  {
   "cell_type": "code",
   "execution_count": 84,
   "metadata": {
    "collapsed": true
   },
   "outputs": [],
   "source": [
    "# Уменьшение значений весов, если сеть ошиблась и выдала 1\n",
    "def decrease(number):\n",
    "    for i in range(6):\n",
    "        # Возбужденный ли вход\n",
    "        if int(number[i]) == 1:\n",
    "            # Уменьшаем связанный с ним вес на единицу\n",
    "            weights[i] -= 1\n",
    "            \n",
    "# Увеличение значений весов, если сеть ошиблась и выдала 0\n",
    "def increase(number):\n",
    "    for i in range(6):\n",
    "        # Возбужденный ли вход\n",
    "        if int(number[i]) == 1:\n",
    "            # Увеличиваем связанный с ним вес на единицу\n",
    "            weights[i] += 1"
   ]
  },
  {
   "cell_type": "code",
   "execution_count": 103,
   "metadata": {},
   "outputs": [
    {
     "name": "stdout",
     "output_type": "stream",
     "text": [
      "[0, 1, 1, 1, 0, 1]\n"
     ]
    }
   ],
   "source": [
    "def endless_tape(tape, turn):\n",
    "    \n",
    "    turn %= 6\n",
    "    if turn == 0: return tape\n",
    "    \n",
    "    a = []\n",
    "    for i in range(turn):\n",
    "        a = tape[i-5:] + tape[:i+1]\n",
    "        \n",
    "    return a"
   ]
  },
  {
   "cell_type": "code",
   "execution_count": null,
   "metadata": {
    "collapsed": true
   },
   "outputs": [],
   "source": [
    "# Тренировка сети\n",
    "def nn_learn():"
   ]
  },
  {
   "cell_type": "code",
   "execution_count": 59,
   "metadata": {},
   "outputs": [],
   "source": [
    "# Тренировка сети\n",
    "for i in range(10):\n",
    "    j = endless_tape(a_test, i) if i%2 else endless_tape(b_test, i)\n",
    "    # Если получилось НЕ число 5\n",
    "    if j != a_test:\n",
    "        pass\n",
    "        # Если сеть выдала True/Да/1, то наказываем ее\n",
    "#         if proceed(nums[j]):\n",
    "#             decrease(nums[j])\n",
    "    # Если получилось число 5\n",
    "    else:\n",
    "        pass\n",
    "        # Если сеть выдала False/Нет/0, то показываем, что эта цифра - то, что нам нужно\n",
    "#         if not proceed(num5):\n",
    "#             increase(num5)"
   ]
  },
  {
   "cell_type": "code",
   "execution_count": 61,
   "metadata": {},
   "outputs": [
    {
     "name": "stdout",
     "output_type": "stream",
     "text": [
      "[0, 1, 1, 1, 0, 1]\n",
      "[1, 1, 1, 0, 1, 0]\n",
      "[1, 1, 0, 1, 0, 1]\n",
      "[1, 0, 1, 0, 1, 1]\n",
      "[0, 1, 0, 1, 1, 1]\n",
      "[1, 0, 1, 1, 1, 0, 1, 0, 1, 1, 1, 0]\n"
     ]
    }
   ],
   "source": [
    "# print(a_test)\n",
    "a_test = [1,0,1,1,1,0]\n",
    "for i in range(len(a_test)-1):\n",
    "    print(a_test[i-5:] + a_test[:i+1])\n",
    "#     print(a_test[i-5:].append())\n",
    "#     print(a_test[:i+1], \"\\n\")"
   ]
  }
 ],
 "metadata": {
  "kernelspec": {
   "display_name": "Python 3",
   "language": "python",
   "name": "python3"
  },
  "language_info": {
   "codemirror_mode": {
    "name": "ipython",
    "version": 3
   },
   "file_extension": ".py",
   "mimetype": "text/x-python",
   "name": "python",
   "nbconvert_exporter": "python",
   "pygments_lexer": "ipython3",
   "version": "3.6.6"
  }
 },
 "nbformat": 4,
 "nbformat_minor": 1
}
