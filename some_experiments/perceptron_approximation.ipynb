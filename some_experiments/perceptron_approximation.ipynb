{
 "cells": [
  {
   "cell_type": "code",
   "execution_count": 207,
   "metadata": {
    "collapsed": true
   },
   "outputs": [],
   "source": [
    "import random\n",
    "import matplotlib.pyplot as plt"
   ]
  },
  {
   "cell_type": "markdown",
   "metadata": {},
   "source": [
    "$w_{i}(t+1)=w_{i}(t)+δx_{i}η$,  $δ = d − y$, $d$ - реальные данные, $y$ - ответ сети    \n",
    "\n",
    "$y = kx + c$,  $$out=(\\sum_{i=1}^{n}w_{i}x_{i})$$\n",
    "\n",
    "$out = w_{2}x + w_{1}$, $y = kx + c$, $out=y, w_{2}=k, w_{1}=c$, "
   ]
  },
  {
   "cell_type": "code",
   "execution_count": 208,
   "metadata": {
    "collapsed": true
   },
   "outputs": [],
   "source": [
    "#  \n",
    "# out = y, w2=k, w1=c! \n",
    "k = random.uniform(-5, 5)\n",
    "c = random.uniform(-5, 5)"
   ]
  },
  {
   "cell_type": "code",
   "execution_count": 209,
   "metadata": {},
   "outputs": [
    {
     "name": "stdout",
     "output_type": "stream",
     "text": [
      "Начальная прямая 2.204495072552671 *X +  1.406559349237737\n"
     ]
    }
   ],
   "source": [
    "print(\"Начальная прямая\", k, '*X + ', c)"
   ]
  },
  {
   "cell_type": "code",
   "execution_count": 210,
   "metadata": {
    "collapsed": true
   },
   "outputs": [],
   "source": [
    "# Набор точек X:Y\n",
    "data = {\n",
    "    1: 2,\n",
    "    2: 4.2,\n",
    "    2.5: 5,\n",
    "    3.8: 7.9,\n",
    "    4: 9,\n",
    "    6: 10.2,\n",
    "    6.6: 13,\n",
    "    7.2: 15.3,\n",
    "    8: 17.1,\n",
    "    8.5: 19.5\n",
    "}"
   ]
  },
  {
   "cell_type": "code",
   "execution_count": 211,
   "metadata": {
    "collapsed": true
   },
   "outputs": [],
   "source": [
    "# Скорость обучения\n",
    "rate = 0.0001"
   ]
  },
  {
   "cell_type": "code",
   "execution_count": 212,
   "metadata": {
    "collapsed": true
   },
   "outputs": [],
   "source": [
    "# Высчитать y\n",
    "def proceed(x):\n",
    "    return x*k+c"
   ]
  },
  {
   "cell_type": "code",
   "execution_count": 213,
   "metadata": {},
   "outputs": [
    {
     "name": "stdout",
     "output_type": "stream",
     "text": [
      "Готовая прямая:  2.16190666455373 * X +  -0.38949685165780495\n"
     ]
    }
   ],
   "source": [
    "# Тренировка сети\n",
    "for i in range(10000):\n",
    "    # Получить случайную X координату точки\n",
    "    x = random.choice(list(data.keys()))\n",
    " \n",
    "    # Получить соответствующую Y координату точки\n",
    "    true_result = data[x]\n",
    " \n",
    "    # Получить ответ сети\n",
    "    out = proceed(x)\n",
    " \n",
    "    # Считаем ошибку сети\n",
    "    delta = true_result - out\n",
    " \n",
    "    # $k = w_{2}$ Меняем вес при x в соответствии с дельта-правилом\n",
    "    k += delta*rate*x\n",
    " \n",
    "    # $c = w_{1}$ Меняем вес при постоянном входе в соответствии с дельта-правилом\n",
    "    c += delta*rate\n",
    "    \n",
    "\n",
    "# Вывод данных готовой прямой\n",
    "print('Готовая прямая: ', k, '* X + ', c)"
   ]
  },
  {
   "cell_type": "code",
   "execution_count": 219,
   "metadata": {
    "scrolled": false
   },
   "outputs": [
    {
     "data": {
      "image/png": "[encoded data removed]",
      "text/plain": [
       "<matplotlib.figure.Figure at 0x7ff2275e7b70>"
      ]
     },
     "metadata": {},
     "output_type": "display_data"
    }
   ],
   "source": [
    "_x = min(data.keys()), max(data.keys())\n",
    "_y = tuple(k*x+c for x in _x)\n",
    "_y_first = tuple(2*x for x in _x)\n",
    "# _y = for value in _x\n",
    "# plt.bar(range(len(data)), data.values(), align=\"center\")\n",
    "plt.scatter(list(data.keys()), list(data.values()))\n",
    "plt.plot(_x, _y, 'r')\n",
    "plt.plot(_x, _y_first, 'g')\n",
    "\n",
    "# plt.plot(list(data.keys()), list(data.values()))\n",
    "# plt.grid(False)\n",
    "# plt.xticks(range(len(data)), list(data.keys()))\n",
    "plt.show();"
   ]
  },
  {
   "cell_type": "code",
   "execution_count": 215,
   "metadata": {},
   "outputs": [
    {
     "data": {
      "text/plain": [
       "[1, 2, 3.8, 4, 6.6, 6, 7.2, 8, 2.5, 8.5]"
      ]
     },
     "execution_count": 215,
     "metadata": {},
     "output_type": "execute_result"
    }
   ],
   "source": [
    "list(data.keys())"
   ]
  },
  {
   "cell_type": "code",
   "execution_count": 216,
   "metadata": {},
   "outputs": [
    {
     "data": {
      "text/plain": [
       "[2, 4.2, 7.9, 9, 13, 10.2, 15.3, 17.1, 5, 19.5]"
      ]
     },
     "execution_count": 216,
     "metadata": {},
     "output_type": "execute_result"
    }
   ],
   "source": [
    "list(data.values())"
   ]
  }
 ],
 "metadata": {
  "kernelspec": {
   "display_name": "Python 3",
   "language": "python",
   "name": "python3"
  },
  "language_info": {
   "codemirror_mode": {
    "name": "ipython",
    "version": 3
   },
   "file_extension": ".py",
   "mimetype": "text/x-python",
   "name": "python",
   "nbconvert_exporter": "python",
   "pygments_lexer": "ipython3",
   "version": "3.6.6"
  }
 },
 "nbformat": 4,
 "nbformat_minor": 1
}
