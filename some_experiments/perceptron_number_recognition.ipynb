{
 "cells": [
  {
   "cell_type": "code",
   "execution_count": 68,
   "metadata": {
    "collapsed": true
   },
   "outputs": [],
   "source": [
    "import random"
   ]
  },
  {
   "cell_type": "code",
   "execution_count": 69,
   "metadata": {
    "collapsed": true
   },
   "outputs": [],
   "source": [
    "# Цифры (Обучающая выборка)\n",
    "num0 = list('111101101101111')\n",
    "num1 = list('001001001001001')\n",
    "num2 = list('111001111100111')\n",
    "num3 = list('111001111001111')\n",
    "num4 = list('101101111001001')\n",
    "num5 = list('111100111001111')\n",
    "num6 = list('111100111101111')\n",
    "num7 = list('111001001001001')\n",
    "num8 = list('111101111101111')\n",
    "num9 = list('111101111001111')\n",
    " \n",
    "# Список всех вышеуказанных цифр\n",
    "nums = [num0, num1, num2, num3, num4, num5, num6, num7, num8, num9]\n",
    " \n",
    "# Виды цифры 5 (Тестовая выборка)\n",
    "num51 = list('111100111000111')\n",
    "num52 = list('111100010001111')\n",
    "num53 = list('111100011001111')\n",
    "num54 = list('110100111001111')\n",
    "num55 = list('110100111001011')\n",
    "num56 = list('111100101001111')"
   ]
  },
  {
   "cell_type": "code",
   "execution_count": 70,
   "metadata": {
    "collapsed": true
   },
   "outputs": [],
   "source": [
    "# Инициализация весов сети\n",
    "weights = [0 for _ in range(15)]\n",
    "    \n",
    "# Порог функции активации\n",
    "bias = 7\n",
    " \n",
    "# Является ли данное число 5\n",
    "def proceed(number):\n",
    "    # Рассчитываем взвешенную сумму\n",
    "    net = 0\n",
    "    for i in range(15):\n",
    "        net += int(number[i])*weights[i]\n",
    " \n",
    "    # Превышен ли порог? (Да - сеть думает, что это 5. Нет - сеть думает, что это другая цифра)\n",
    "    return net >= bias"
   ]
  },
  {
   "cell_type": "code",
   "execution_count": 71,
   "metadata": {
    "collapsed": true
   },
   "outputs": [],
   "source": [
    "# Уменьшение значений весов, если сеть ошиблась и выдала 1\n",
    "def decrease(number):\n",
    "    for i in range(15):\n",
    "        # Возбужденный ли вход\n",
    "        if int(number[i]) == 1:\n",
    "            # Уменьшаем связанный с ним вес на единицу\n",
    "            weights[i] -= 1\n",
    "            \n",
    "# Увеличение значений весов, если сеть ошиблась и выдала 0\n",
    "def increase(number):\n",
    "    for i in range(15):\n",
    "        # Возбужденный ли вход\n",
    "        if int(number[i]) == 1:\n",
    "            # Увеличиваем связанный с ним вес на единицу\n",
    "            weights[i] += 1"
   ]
  },
  {
   "cell_type": "code",
   "execution_count": 72,
   "metadata": {},
   "outputs": [],
   "source": [
    "# Тренировка сети\n",
    "for i in range(10000):\n",
    "    j = i%10 # [:10]\n",
    "    # Если получилось НЕ число 5\n",
    "    if j != 5:\n",
    "        # Если сеть выдала True/Да/1, то наказываем ее\n",
    "        if proceed(nums[j]):\n",
    "            decrease(nums[j])\n",
    "    # Если получилось число 5\n",
    "    else:\n",
    "        # Если сеть выдала False/Нет/0, то показываем, что эта цифра - то, что нам нужно\n",
    "        if not proceed(num5):\n",
    "            increase(num5)"
   ]
  },
  {
   "cell_type": "code",
   "execution_count": 73,
   "metadata": {},
   "outputs": [
    {
     "name": "stdout",
     "output_type": "stream",
     "text": [
      "[1, 1, 1, 1, 0, -5, 1, 1, 1, -5, 0, 1, 1, 1, 1]\n"
     ]
    }
   ],
   "source": [
    "# Вывод значений весов\n",
    "print(weights)"
   ]
  },
  {
   "cell_type": "code",
   "execution_count": 74,
   "metadata": {},
   "outputs": [
    {
     "name": "stdout",
     "output_type": "stream",
     "text": [
      "0 это 5?  False\n",
      "1 это 5?  False\n",
      "2 это 5?  False\n",
      "3 это 5?  False\n",
      "4 это 5?  False\n",
      "6 это 5?  False\n",
      "7 это 5?  False\n",
      "8 это 5?  False\n",
      "9 это 5?  False \n",
      "\n",
      "Узнал 5?  True\n",
      "Узнал 5 - 1?  True\n",
      "Узнал 5 - 2?  True\n",
      "Узнал 5 - 3?  True\n",
      "Узнал 5 - 4?  True\n",
      "Узнал 5 - 5?  True\n",
      "Узнал 5 - 6?  True\n"
     ]
    }
   ],
   "source": [
    "# Прогон по обучающей выборке\n",
    "print(\"0 это 5? \", proceed(num0))\n",
    "print(\"1 это 5? \", proceed(num1))\n",
    "print(\"2 это 5? \", proceed(num2))\n",
    "print(\"3 это 5? \", proceed(num3))\n",
    "print(\"4 это 5? \", proceed(num4))\n",
    "print(\"6 это 5? \", proceed(num6))\n",
    "print(\"7 это 5? \", proceed(num7))\n",
    "print(\"8 это 5? \", proceed(num8))\n",
    "print(\"9 это 5? \", proceed(num9), '\\n')\n",
    " \n",
    "# Прогон по тестовой выборке\n",
    "print(\"Узнал 5? \", proceed(num5))\n",
    "print(\"Узнал 5 - 1? \", proceed(num51))\n",
    "print(\"Узнал 5 - 2? \", proceed(num52))\n",
    "print(\"Узнал 5 - 3? \", proceed(num53))\n",
    "print(\"Узнал 5 - 4? \", proceed(num54))\n",
    "print(\"Узнал 5 - 5? \", proceed(num55))\n",
    "print(\"Узнал 5 - 6? \", proceed(num56))\n"
   ]
  }
 ],
 "metadata": {
  "kernelspec": {
   "display_name": "Python 3",
   "language": "python",
   "name": "python3"
  },
  "language_info": {
   "codemirror_mode": {
    "name": "ipython",
    "version": 3
   },
   "file_extension": ".py",
   "mimetype": "text/x-python",
   "name": "python",
   "nbconvert_exporter": "python",
   "pygments_lexer": "ipython3",
   "version": "3.6.6"
  }
 },
 "nbformat": 4,
 "nbformat_minor": 1
}
